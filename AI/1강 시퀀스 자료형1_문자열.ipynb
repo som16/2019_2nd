{
 "cells": [
  {
   "cell_type": "markdown",
   "metadata": {},
   "source": [
    "# 1강 시퀀스 자료형1_문자열"
   ]
  },
  {
   "cell_type": "markdown",
   "metadata": {},
   "source": [
    "변수(variable) : 자료(data)를 넣을 수 있는 메모리 상의 공간\n",
    "\n",
    "시퀀스 자료형(sequence types) : 연속적으로 이어진 여러 값을 저장하는 기법\n",
    "\n",
    "ex) 문자열, 리스트, 튜플"
   ]
  },
  {
   "cell_type": "markdown",
   "metadata": {},
   "source": [
    "### 문자열 슬라이싱"
   ]
  },
  {
   "cell_type": "code",
   "execution_count": 7,
   "metadata": {},
   "outputs": [],
   "source": [
    "a = \"HELLO Python\""
   ]
  },
  {
   "cell_type": "code",
   "execution_count": 9,
   "metadata": {},
   "outputs": [
    {
     "data": {
      "text/plain": [
       "'Python'"
      ]
     },
     "execution_count": 9,
     "metadata": {},
     "output_type": "execute_result"
    }
   ],
   "source": [
    "a[-6:]"
   ]
  },
  {
   "cell_type": "code",
   "execution_count": 10,
   "metadata": {},
   "outputs": [],
   "source": [
    "str = \"AI 및 데이터 분석 기초\""
   ]
  },
  {
   "cell_type": "code",
   "execution_count": 12,
   "metadata": {},
   "outputs": [
    {
     "data": {
      "text/plain": [
       "'데이터 분석'"
      ]
     },
     "execution_count": 12,
     "metadata": {},
     "output_type": "execute_result"
    }
   ],
   "source": [
    "str[-9:-3]"
   ]
  },
  {
   "cell_type": "code",
   "execution_count": 13,
   "metadata": {},
   "outputs": [],
   "source": [
    "today = \"2019.09.01\""
   ]
  },
  {
   "cell_type": "code",
   "execution_count": 16,
   "metadata": {},
   "outputs": [
    {
     "data": {
      "text/plain": [
       "'09'"
      ]
     },
     "execution_count": 16,
     "metadata": {},
     "output_type": "execute_result"
    }
   ],
   "source": [
    "today[-5:-3]"
   ]
  },
  {
   "cell_type": "code",
   "execution_count": 19,
   "metadata": {},
   "outputs": [
    {
     "data": {
      "text/plain": [
       "2019"
      ]
     },
     "execution_count": 19,
     "metadata": {},
     "output_type": "execute_result"
    }
   ],
   "source": [
    "from datetime import datetime\n",
    "now = datetime.now()\n",
    "now.year"
   ]
  },
  {
   "cell_type": "markdown",
   "metadata": {},
   "source": [
    "int는 슬라이싱 불가\n",
    "\n",
    "### 문자열 formating\n",
    "\n",
    "%d : 정수\n",
    "\n",
    "%f : 실수\n",
    "\n",
    "%.숫자f : 실수\n",
    "\n",
    "%s : 문자열"
   ]
  },
  {
   "cell_type": "code",
   "execution_count": 30,
   "metadata": {},
   "outputs": [
    {
     "name": "stdout",
     "output_type": "stream",
     "text": [
      "주민번호 앞자리 입력 : 011027\n",
      "당신은 2001년에 태어났군요.\n",
      "당신의 생일은 10월 27일 이군요.\n",
      "당신은 올해 19살 이군요\n"
     ]
    }
   ],
   "source": [
    "birth = input(\"주민번호 앞자리 입력 : \")\n",
    "\n",
    "print(\"당신은 20%s년에 태어났군요.\" %birth[:2])\n",
    "print(\"당신의 생일은 %s월 %s일 이군요.\" %(birth[2:4], birth[4:]))\n",
    "print(\"당신은 올해 %d살 이군요\" %(now.year - (2000 + int(birth[:2])) + 1))"
   ]
  },
  {
   "cell_type": "markdown",
   "metadata": {},
   "source": [
    "### 문자열을 구분자(sep)를 기준으로 지정한 횟수 만큼만 없애고 분리"
   ]
  },
  {
   "cell_type": "code",
   "execution_count": 31,
   "metadata": {},
   "outputs": [
    {
     "data": {
      "text/plain": [
       "['설탕', '소금', '미원 사카린']"
      ]
     },
     "execution_count": 31,
     "metadata": {},
     "output_type": "execute_result"
    }
   ],
   "source": [
    "\"설탕 소금 미원 사카린\".split(maxsplit = 2)"
   ]
  },
  {
   "cell_type": "code",
   "execution_count": 34,
   "metadata": {},
   "outputs": [
    {
     "data": {
      "text/plain": [
       "['설탕', '소금', '미원,사카린']"
      ]
     },
     "execution_count": 34,
     "metadata": {},
     "output_type": "execute_result"
    }
   ],
   "source": [
    "\"설탕,소금,미원,사카린\".split( sep = ',', maxsplit = 2)"
   ]
  },
  {
   "cell_type": "markdown",
   "metadata": {},
   "source": [
    "### 필요없는 문자열 삭제\n",
    ".strip()\n",
    "\n",
    "문자열의 앞 뒤에서 시작하여 지정한 문자외의 다른 문자를 만날 때 까지 지정한 문자를 모두 삭제"
   ]
  },
  {
   "cell_type": "code",
   "execution_count": 36,
   "metadata": {},
   "outputs": [
    {
     "data": {
      "text/plain": [
       "'Python'"
      ]
     },
     "execution_count": 36,
     "metadata": {},
     "output_type": "execute_result"
    }
   ],
   "source": [
    "\"aaaPythonaaa\".strip('a')"
   ]
  },
  {
   "cell_type": "code",
   "execution_count": 37,
   "metadata": {},
   "outputs": [],
   "source": [
    "str = \"aaabbPythonbbaaa\""
   ]
  },
  {
   "cell_type": "code",
   "execution_count": 38,
   "metadata": {},
   "outputs": [
    {
     "data": {
      "text/plain": [
       "'bbPythonbb'"
      ]
     },
     "execution_count": 38,
     "metadata": {},
     "output_type": "execute_result"
    }
   ],
   "source": [
    "str.strip('a')"
   ]
  },
  {
   "cell_type": "code",
   "execution_count": 40,
   "metadata": {},
   "outputs": [
    {
     "data": {
      "text/plain": [
       "'Python'"
      ]
     },
     "execution_count": 40,
     "metadata": {},
     "output_type": "execute_result"
    }
   ],
   "source": [
    "str.strip('ab')"
   ]
  },
  {
   "cell_type": "code",
   "execution_count": 43,
   "metadata": {},
   "outputs": [
    {
     "data": {
      "text/plain": [
       "'Python'"
      ]
     },
     "execution_count": 43,
     "metadata": {},
     "output_type": "execute_result"
    }
   ],
   "source": [
    "str.strip('ba') # strip('ab')와 동일"
   ]
  },
  {
   "cell_type": "code",
   "execution_count": 45,
   "metadata": {},
   "outputs": [
    {
     "data": {
      "text/plain": [
       "'This is very \\n fast.'"
      ]
     },
     "execution_count": 45,
     "metadata": {},
     "output_type": "execute_result"
    }
   ],
   "source": [
    "\"\\n This is very \\n fast.\\n \\n \".strip() # 공백 개행문자 제거(단, 앞과 뒤에서 만)"
   ]
  },
  {
   "cell_type": "markdown",
   "metadata": {},
   "source": [
    "왼쪽, 오른쪽 "
   ]
  },
  {
   "cell_type": "code",
   "execution_count": 46,
   "metadata": {},
   "outputs": [
    {
     "name": "stdout",
     "output_type": "stream",
     "text": [
      "Pythonbbaaa\n",
      "aaabbPython\n"
     ]
    }
   ],
   "source": [
    "print(str.lstrip('ab')) # .lstrip() : 왼쪽 삭제\n",
    "print(str.rstrip('ab')) # .rstrip() : 오른쪽 삭제"
   ]
  },
  {
   "cell_type": "markdown",
   "metadata": {},
   "source": [
    "### 문자열 연결하기\n",
    ".join()\n",
    "\n",
    "시퀀스(seq)의 항목 사이에 구분자 문자열(str)을 모두 넣은 후 문자열 반환"
   ]
  },
  {
   "cell_type": "code",
   "execution_count": 47,
   "metadata": {},
   "outputs": [
    {
     "data": {
      "text/plain": [
       "['서울시', '서초구', '반포대로', '201(반포동)']"
      ]
     },
     "execution_count": 47,
     "metadata": {},
     "output_type": "execute_result"
    }
   ],
   "source": [
    "address = ['서울시','서초구','반포대로','201(반포동)']\n",
    "address"
   ]
  },
  {
   "cell_type": "code",
   "execution_count": 48,
   "metadata": {},
   "outputs": [
    {
     "data": {
      "text/plain": [
       "'서울시 서초구 반포대로 201(반포동)'"
      ]
     },
     "execution_count": 48,
     "metadata": {},
     "output_type": "execute_result"
    }
   ],
   "source": [
    "a = \" \"\n",
    "a.join(address)"
   ]
  },
  {
   "cell_type": "code",
   "execution_count": 50,
   "metadata": {},
   "outputs": [
    {
     "data": {
      "text/plain": [
       "'서울시,서초구,반포대로,201(반포동)'"
      ]
     },
     "execution_count": 50,
     "metadata": {},
     "output_type": "execute_result"
    }
   ],
   "source": [
    "\",\".join(address)"
   ]
  },
  {
   "cell_type": "markdown",
   "metadata": {},
   "source": [
    "### 문자열 찾기\n",
    ".find()\n",
    "\n",
    "문자열에서 찾으려는 검색 문자열과 첫 번째로 일치하는 문자열 위치 반환 \n",
    "\n",
    "* 해당 문자열이 없는 경우 -1 반환"
   ]
  },
  {
   "cell_type": "code",
   "execution_count": 51,
   "metadata": {},
   "outputs": [
    {
     "name": "stdout",
     "output_type": "stream",
     "text": [
      "0\n",
      "7\n",
      "5\n",
      "-1\n"
     ]
    }
   ],
   "source": [
    "str = \"python code\"\n",
    "\n",
    "print(str.find(\"python\"))\n",
    "print(str.find(\"code\"))\n",
    "print(str.find(\"n\"))\n",
    "print(str.find(\"easy\")) # 없는 문자열의 경우 -1 반환"
   ]
  },
  {
   "cell_type": "markdown",
   "metadata": {},
   "source": [
    ".count()\n",
    "\n",
    "문자열의 일치 횟수 반환\n",
    "\n",
    "* .count(search_str)\n",
    "* .count(search_str, start)\n",
    "* .count(search_str, start, end)"
   ]
  },
  {
   "cell_type": "code",
   "execution_count": 62,
   "metadata": {},
   "outputs": [
    {
     "name": "stdout",
     "output_type": "stream",
     "text": [
      "3\n",
      "1\n",
      "2\n",
      "1\n"
     ]
    }
   ],
   "source": [
    "str = \"python is powerful. python is easy to learn. python is open\"\n",
    "\n",
    "print(str.count(\"python\"))\n",
    "print(str.count(\"powerful\"))\n",
    "print(str.count(\"python\",1))\n",
    "print(str.count(\"python\",1,-9))"
   ]
  },
  {
   "cell_type": "markdown",
   "metadata": {},
   "source": [
    "### 문자열 바꾸기\n",
    ".replace()\n",
    "\n",
    "문자열에서 지정한 문자열을 찾아서 새로운 문자열로 바꿈\n",
    "\n",
    "* .replace(old, new[,count])"
   ]
  },
  {
   "cell_type": "code",
   "execution_count": 63,
   "metadata": {},
   "outputs": [
    {
     "name": "stdout",
     "output_type": "stream",
     "text": [
      "Python_3 is powerful. Python_3 is easy to learn. Python_3 is open\n",
      "Python_3 is powerful. python is easy to learn. python is open\n",
      " is powerful. python is easy to learn. python is open\n"
     ]
    }
   ],
   "source": [
    "str = \"python is powerful. python is easy to learn. python is open\"\n",
    "\n",
    "print(str.replace(\"python\", \"Python_3\"))\n",
    "print(str.replace(\"python\", \"Python_3\", 1))\n",
    "print(str.replace(\"python\", \"\", 1))"
   ]
  },
  {
   "cell_type": "markdown",
   "metadata": {},
   "source": [
    "* split()\n",
    "\n",
    "* strip()\n",
    "\n",
    "* join()\n",
    "\n",
    "* find()\n",
    "\n",
    "* count()\n",
    "\n",
    "* replace"
   ]
  }
 ],
 "metadata": {
  "kernelspec": {
   "display_name": "Python 3",
   "language": "python",
   "name": "python3"
  },
  "language_info": {
   "codemirror_mode": {
    "name": "ipython",
    "version": 3
   },
   "file_extension": ".py",
   "mimetype": "text/x-python",
   "name": "python",
   "nbconvert_exporter": "python",
   "pygments_lexer": "ipython3",
   "version": "3.7.3"
  }
 },
 "nbformat": 4,
 "nbformat_minor": 2
}
